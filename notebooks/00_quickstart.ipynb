{
 "cells": [
  {
   "cell_type": "markdown",
   "metadata": {},
   "source": [
    "# Quickstart guide\n",
    "\n",
    "Simple example of using the pig iron production prediction system."
   ]
  },
  {
   "cell_type": "code",
   "execution_count": null,
   "metadata": {},
   "outputs": [],
   "source": [
    "import sys\n",
    "sys.path.append('..')\n",
    "\n",
    "import numpy as np\n",
    "import pandas as pd\n",
    "import matplotlib.pyplot as plt\n",
    "\n",
    "from src import data_loader as dl\n",
    "from src import feature_engineering as fe\n",
    "from src.model import GPRModel\n",
    "from src import utils"
   ]
  },
  {
   "cell_type": "markdown",
   "metadata": {},
   "source": [
    "## 1. Load data"
   ]
  },
  {
   "cell_type": "code",
   "execution_count": null,
   "metadata": {},
   "outputs": [],
   "source": [
    "# Set your data path\n",
    "DATA_PATH = \"G:/My Drive/Documents/Applications/DBX Commodities 2025/Stage 2 Assignment/Data/Gijon\"\n",
    "\n",
    "# Load production data\n",
    "production = dl.load_production_data(DATA_PATH)\n",
    "print(f\"Production data: {production.shape}\")\n",
    "production.head()"
   ]
  },
  {
   "cell_type": "markdown",
   "metadata": {},
   "source": [
    "## 2. Extract features (sample)"
   ]
  },
  {
   "cell_type": "code",
   "execution_count": null,
   "metadata": {},
   "outputs": [],
   "source": [
    "# Load sample thermal data\n",
    "sample_date = \"20220119\"\n",
    "thermal_data = dl.load_thermal_index(DATA_PATH, \"TAI\", sample_date)\n",
    "cloud_mask = dl.load_cloud_mask(DATA_PATH, sample_date)\n",
    "perimeter_mask = dl.load_perimeter_mask(DATA_PATH)\n",
    "\n",
    "# Extract features\n",
    "if thermal_data is not None:\n",
    "    features = fe.extract_thermal_features(\n",
    "        thermal_data, perimeter_mask, cloud_mask, \"TAI\"\n",
    "    )\n",
    "    print(\"Extracted features:\")\n",
    "    for key, value in list(features.items())[:5]:\n",
    "        print(f\"  {key}: {value:.3f}\")"
   ]
  },
  {
   "cell_type": "markdown",
   "metadata": {},
   "source": [
    "## 3. Train GPR model (quick demo)"
   ]
  },
  {
   "cell_type": "code",
   "execution_count": null,
   "metadata": {},
   "outputs": [],
   "source": [
    "# Create dummy data for demo\n",
    "np.random.seed(42)\n",
    "n_samples = 24\n",
    "X = np.random.randn(n_samples, 5)\n",
    "y = 250 + X[:, 0] * 30 + X[:, 1] * 20 + np.random.randn(n_samples) * 10\n",
    "\n",
    "# Create and train GPR model\n",
    "model = GPRModel()\n",
    "model.fit(X, y)\n",
    "print(\"Model trained!\")\n",
    "\n",
    "# Make predictions\n",
    "y_pred, y_std = model.predict(X)\n",
    "\n",
    "# Evaluate\n",
    "metrics = model.evaluate(X, y)\n",
    "print(\"\\nModel performance:\")\n",
    "for metric, value in metrics.items():\n",
    "    print(f\"  {metric}: {value:.3f}\")"
   ]
  },
  {
   "cell_type": "markdown",
   "metadata": {},
   "source": [
    "## 4. Visualise predictions"
   ]
  },
  {
   "cell_type": "code",
   "execution_count": null,
   "metadata": {},
   "outputs": [],
   "source": [
    "# Create date index for visualisation\n",
    "dates = pd.date_range('2022-01', periods=n_samples, freq='ME')\n",
    "\n",
    "# Plot predictions\n",
    "fig = utils.plot_predictions(dates, y, y_pred, y_std,\n",
    "                            title=\"Demo GPR Predictions\")\n",
    "plt.show()\n",
    "\n",
    "# Actual vs predicted\n",
    "fig = utils.plot_actual_vs_predicted(y, y_pred, y_std)\n",
    "plt.show()"
   ]
  },
  {
   "cell_type": "markdown",
   "metadata": {},
   "source": [
    "## Run full pipeline\n",
    "\n",
    "To run the complete analysis:\n",
    "\n",
    "```bash\n",
    "python ../src/main.py --data-path \"path/to/data\"\n",
    "```\n",
    "\n",
    "This will:\n",
    "1. Extract features from all thermal indices\n",
    "2. Handle cloud contamination\n",
    "3. Create monthly aggregates\n",
    "4. Train GPR model\n",
    "5. Generate predictions with uncertainty\n",
    "6. Save all results to `./results/`"
   ]
  }
 ],
 "metadata": {
  "kernelspec": {
   "display_name": ".venv",
   "language": "python",
   "name": "python3"
  },
  "language_info": {
   "codemirror_mode": {
    "name": "ipython",
    "version": 3
   },
   "file_extension": ".py",
   "mimetype": "text/x-python",
   "name": "python",
   "nbconvert_exporter": "python",
   "pygments_lexer": "ipython3",
   "version": "3.11.5"
  }
 },
 "nbformat": 4,
 "nbformat_minor": 4
}
