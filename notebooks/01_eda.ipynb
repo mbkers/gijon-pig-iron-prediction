{
 "cells": [
  {
   "cell_type": "markdown",
   "metadata": {},
   "source": [
    "# Exploratory Data Analysis (EDA)\n",
    "\n",
    "This notebook explores the pig iron production data and thermal satellite indices."
   ]
  },
  {
   "cell_type": "code",
   "execution_count": null,
   "metadata": {},
   "outputs": [],
   "source": [
    "import sys\n",
    "sys.path.append('..')\n",
    "\n",
    "import numpy as np\n",
    "import pandas as pd\n",
    "import matplotlib.pyplot as plt\n",
    "\n",
    "from src import data_loader as dl\n",
    "\n",
    "%matplotlib inline\n",
    "plt.style.use('seaborn-v0_8')"
   ]
  },
  {
   "cell_type": "markdown",
   "metadata": {},
   "source": [
    "## 1. Production data"
   ]
  },
  {
   "cell_type": "code",
   "execution_count": null,
   "metadata": {},
   "outputs": [],
   "source": [
    "# Set data path\n",
    "DATA_PATH = \"G:/My Drive/Documents/Applications/DBX Commodities 2025/Stage 2 Assignment/Data/Gijon\"\n",
    "\n",
    "# Load production data\n",
    "production = dl.load_production_data(DATA_PATH)\n",
    "print(f\"Production data shape: {production.shape}\")\n",
    "print(f\"Date range: {production.index.min()} to {production.index.max()}\")\n",
    "print(f\"\\nSummary statistics:\")\n",
    "production.describe()"
   ]
  },
  {
   "cell_type": "code",
   "execution_count": null,
   "metadata": {},
   "outputs": [],
   "source": [
    "# Plot production over time\n",
    "fig, (ax1, ax2, ax3) = plt.subplots(3, 1, figsize=(12, 8))\n",
    "\n",
    "# Time series\n",
    "ax1.plot(production.index, production['Value'], 'k-', linewidth=2)\n",
    "ax1.set_ylabel('Production (1000 tons)')\n",
    "ax1.set_title('Monthly Pig Iron Production')\n",
    "ax1.grid(True, alpha=0.3)\n",
    "\n",
    "# Monthly boxplot\n",
    "production['Month'] = production.index.month\n",
    "production.boxplot(column='Value', by='Month', ax=ax2)\n",
    "ax2.set_xlabel('Month')\n",
    "ax2.set_ylabel('Production (1000 tons)')\n",
    "ax2.set_title('Seasonal Pattern')\n",
    "plt.suptitle('')  # Remove default title\n",
    "\n",
    "# Rolling statistics\n",
    "production['Value'].plot(ax=ax3, label='Original', alpha=0.7)\n",
    "production['Value'].rolling(3).mean().plot(ax=ax3, label='3-month MA', linewidth=2)\n",
    "production['Value'].rolling(6).mean().plot(ax=ax3, label='6-month MA', linewidth=2)\n",
    "ax3.set_title('Production with Moving Averages')\n",
    "ax3.set_ylabel('Production (1000 tons)')\n",
    "ax3.legend()\n",
    "ax3.grid(True, alpha=0.3)\n",
    "\n",
    "plt.tight_layout()\n",
    "plt.show()"
   ]
  },
  {
   "cell_type": "markdown",
   "metadata": {},
   "source": [
    "## 2. Thermal index exploration"
   ]
  },
  {
   "cell_type": "code",
   "execution_count": null,
   "metadata": {},
   "outputs": [],
   "source": [
    "# Sample thermal data\n",
    "sample_date = \"20220119\"\n",
    "thermal_data = dl.load_thermal_index(DATA_PATH, \"TAI\", sample_date)\n",
    "cloud_mask = dl.load_cloud_mask(DATA_PATH, sample_date)\n",
    "perimeter_mask = dl.load_perimeter_mask(DATA_PATH)\n",
    "\n",
    "if thermal_data is not None:\n",
    "    # Visualise\n",
    "    fig, axes = plt.subplots(1, 3, figsize=(15, 5))\n",
    "\n",
    "    # Thermal data\n",
    "    masked_thermal = np.ma.masked_where(~perimeter_mask, thermal_data)\n",
    "    im1 = axes[0].imshow(masked_thermal, cmap='hot', vmin=0, vmax=2)\n",
    "    axes[0].set_title(f'TAI - {sample_date}')\n",
    "    plt.colorbar(im1, ax=axes[0])\n",
    "\n",
    "    # Cloud mask\n",
    "    if cloud_mask is not None:\n",
    "        masked_cloud = np.ma.masked_where(~perimeter_mask, cloud_mask)\n",
    "        im2 = axes[1].imshow(masked_cloud, cmap='Blues', vmin=0, vmax=3)\n",
    "        axes[1].set_title('Cloud Mask')\n",
    "        plt.colorbar(im2, ax=axes[1])\n",
    "\n",
    "    # Histogram\n",
    "    valid_pixels = thermal_data[perimeter_mask]\n",
    "    axes[2].hist(valid_pixels, bins=50, alpha=0.7)\n",
    "    axes[2].axvline(np.percentile(valid_pixels, 95), color='r',\n",
    "                   linestyle='--', label='p95')\n",
    "    axes[2].set_xlabel('TAI Value')\n",
    "    axes[2].set_ylabel('Pixel Count')\n",
    "    axes[2].set_title('TAI Distribution')\n",
    "    axes[2].legend()\n",
    "\n",
    "    plt.tight_layout()\n",
    "    plt.show()"
   ]
  },
  {
   "cell_type": "markdown",
   "metadata": {},
   "source": [
    "## 3. Feature-Production correlation"
   ]
  },
  {
   "cell_type": "code",
   "execution_count": null,
   "metadata": {},
   "outputs": [],
   "source": [
    "# Load pre-computed features if available\n",
    "try:\n",
    "    modeling_data = pd.read_csv('../results/csv/modeling_data.csv', index_col=0, parse_dates=True)\n",
    "\n",
    "    # Calculate correlations\n",
    "    feature_cols = [col for col in modeling_data.columns if col != 'Value']\n",
    "    correlations = modeling_data[feature_cols].corrwith(modeling_data['Value']).sort_values(ascending=False)\n",
    "\n",
    "    # Plot top correlations\n",
    "    fig, ax = plt.subplots(figsize=(10, 6))\n",
    "    top_features = correlations.head(15)\n",
    "    top_features.plot(kind='barh', ax=ax)\n",
    "    ax.set_xlabel('Correlation with Production')\n",
    "    ax.set_title('Top 15 Features by Correlation')\n",
    "    ax.grid(True, alpha=0.3)\n",
    "    plt.tight_layout()\n",
    "    plt.show()\n",
    "\n",
    "    # Scatter plots of top features\n",
    "    fig, axes = plt.subplots(2, 2, figsize=(12, 10))\n",
    "    axes = axes.flatten()\n",
    "\n",
    "    for i, (feature, corr) in enumerate(top_features.head(4).items()):\n",
    "        ax = axes[i]\n",
    "        ax.scatter(modeling_data[feature], modeling_data['Value'], alpha=0.6)\n",
    "        ax.set_xlabel(feature)\n",
    "        ax.set_ylabel('Production')\n",
    "        ax.set_title(f'Correlation: {corr:.3f}')\n",
    "\n",
    "        # Add trend line\n",
    "        z = np.polyfit(modeling_data[feature], modeling_data['Value'], 1)\n",
    "        p = np.poly1d(z)\n",
    "        ax.plot(sorted(modeling_data[feature]), p(sorted(modeling_data[feature])),\n",
    "                'r--', alpha=0.8)\n",
    "\n",
    "    plt.tight_layout()\n",
    "    plt.show()\n",
    "\n",
    "except FileNotFoundError:\n",
    "    print(\"No modeling data found. Run the main pipeline first.\")"
   ]
  },
  {
   "cell_type": "markdown",
   "metadata": {},
   "source": [
    "## 4. Cloud coverage analysis"
   ]
  },
  {
   "cell_type": "code",
   "execution_count": null,
   "metadata": {},
   "outputs": [],
   "source": [
    "# Analyse cloud coverage impact\n",
    "dates = dl.get_available_dates(DATA_PATH)\n",
    "cloud_stats = []\n",
    "\n",
    "# Sample 50 random dates\n",
    "# sample_dates = np.random.choice(dates, min(50, len(dates)), replace=False)\n",
    "sample_dates = dates\n",
    "\n",
    "for date in sample_dates:\n",
    "    cloud_mask = dl.load_cloud_mask(DATA_PATH, date)\n",
    "    if cloud_mask is not None:\n",
    "        clear_ratio = np.mean(cloud_mask[perimeter_mask] == 0)\n",
    "        cloud_stats.append({\n",
    "            'date': pd.to_datetime(date, format='%Y%m%d'),\n",
    "            'clear_ratio': clear_ratio\n",
    "        })\n",
    "\n",
    "if cloud_stats:\n",
    "    cloud_df = pd.DataFrame(cloud_stats).set_index('date')\n",
    "\n",
    "    # Plot cloud coverage over time\n",
    "    fig, ax = plt.subplots(figsize=(12, 5))\n",
    "    ax.scatter(cloud_df.index, cloud_df['clear_ratio'], alpha=0.6)\n",
    "    ax.axhline(y=0.8, color='g', linestyle='--', label='80% clear threshold')\n",
    "    ax.set_ylabel('Clear Sky Ratio')\n",
    "    ax.set_xlabel('Date')\n",
    "    ax.set_title('Cloud Coverage Over Time (Sample)')\n",
    "    ax.legend()\n",
    "    ax.grid(True, alpha=0.3)\n",
    "    plt.xticks(rotation=45)\n",
    "    plt.tight_layout()\n",
    "    plt.show()\n",
    "\n",
    "    print(f\"Average clear sky ratio: {cloud_df['clear_ratio'].mean():.2%}\")\n",
    "    print(f\"Days with >80% clear: {(cloud_df['clear_ratio'] > 0.8).sum()}\")"
   ]
  },
  {
   "cell_type": "markdown",
   "metadata": {},
   "source": [
    "## Summary\n",
    "\n",
    "Key findings from EDA:\n",
    "1. Production shows seasonal variation with lower values in Q4\n",
    "2. Thermal indices have strong spatial patterns concentrated at industrial components\n",
    "3. Cloud coverage varies significantly and affects data quality\n",
    "4. High percentile thermal values (p95, p99) show strong correlation with production"
   ]
  }
 ],
 "metadata": {
  "kernelspec": {
   "display_name": ".venv",
   "language": "python",
   "name": "python3"
  },
  "language_info": {
   "codemirror_mode": {
    "name": "ipython",
    "version": 3
   },
   "file_extension": ".py",
   "mimetype": "text/x-python",
   "name": "python",
   "nbconvert_exporter": "python",
   "pygments_lexer": "ipython3",
   "version": "3.11.5"
  }
 },
 "nbformat": 4,
 "nbformat_minor": 4
}
